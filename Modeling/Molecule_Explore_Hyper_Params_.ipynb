{
  "nbformat": 4,
  "nbformat_minor": 0,
  "metadata": {
    "colab": {
      "name": "Molecule Explore Hyper Params .ipynb",
      "provenance": [],
      "collapsed_sections": [],
      "machine_shape": "hm"
    },
    "kernelspec": {
      "display_name": "Python 3",
      "name": "python3"
    },
    "language_info": {
      "name": "python"
    }
  },
  "cells": [
    {
      "cell_type": "markdown",
      "metadata": {
        "id": "D5A_XFRSgkWG"
      },
      "source": [
        "# Explore Hyper Params on the 10k colors hop dfs\n",
        "\n"
      ]
    },
    {
      "cell_type": "markdown",
      "metadata": {
        "id": "10lKcYmqiqD3"
      },
      "source": [
        "#### Load Data"
      ]
    },
    {
      "cell_type": "code",
      "metadata": {
        "colab": {
          "base_uri": "https://localhost:8080/"
        },
        "id": "P6t2pgCcgzLI",
        "outputId": "e3cbda53-b522-483b-b5d5-f252e9a315b1"
      },
      "source": [
        "!pip install pyTDC"
      ],
      "execution_count": null,
      "outputs": [
        {
          "name": "stdout",
          "output_type": "stream",
          "text": [
            "Requirement already satisfied: pyTDC in /usr/local/lib/python3.7/dist-packages (0.3.1)\n",
            "Requirement already satisfied: tqdm in /usr/local/lib/python3.7/dist-packages (from pyTDC) (4.62.3)\n",
            "Requirement already satisfied: scikit-learn in /usr/local/lib/python3.7/dist-packages (from pyTDC) (0.22.2.post1)\n",
            "Requirement already satisfied: numpy in /usr/local/lib/python3.7/dist-packages (from pyTDC) (1.19.5)\n",
            "Requirement already satisfied: seaborn in /usr/local/lib/python3.7/dist-packages (from pyTDC) (0.11.2)\n",
            "Requirement already satisfied: fuzzywuzzy in /usr/local/lib/python3.7/dist-packages (from pyTDC) (0.18.0)\n",
            "Requirement already satisfied: pandas in /usr/local/lib/python3.7/dist-packages (from pyTDC) (1.1.5)\n",
            "Requirement already satisfied: pytz>=2017.2 in /usr/local/lib/python3.7/dist-packages (from pandas->pyTDC) (2018.9)\n",
            "Requirement already satisfied: python-dateutil>=2.7.3 in /usr/local/lib/python3.7/dist-packages (from pandas->pyTDC) (2.8.2)\n",
            "Requirement already satisfied: six>=1.5 in /usr/local/lib/python3.7/dist-packages (from python-dateutil>=2.7.3->pandas->pyTDC) (1.15.0)\n",
            "Requirement already satisfied: scipy>=0.17.0 in /usr/local/lib/python3.7/dist-packages (from scikit-learn->pyTDC) (1.4.1)\n",
            "Requirement already satisfied: joblib>=0.11 in /usr/local/lib/python3.7/dist-packages (from scikit-learn->pyTDC) (1.0.1)\n",
            "Requirement already satisfied: matplotlib>=2.2 in /usr/local/lib/python3.7/dist-packages (from seaborn->pyTDC) (3.2.2)\n",
            "Requirement already satisfied: pyparsing!=2.0.4,!=2.1.2,!=2.1.6,>=2.0.1 in /usr/local/lib/python3.7/dist-packages (from matplotlib>=2.2->seaborn->pyTDC) (2.4.7)\n",
            "Requirement already satisfied: kiwisolver>=1.0.1 in /usr/local/lib/python3.7/dist-packages (from matplotlib>=2.2->seaborn->pyTDC) (1.3.2)\n",
            "Requirement already satisfied: cycler>=0.10 in /usr/local/lib/python3.7/dist-packages (from matplotlib>=2.2->seaborn->pyTDC) (0.10.0)\n"
          ]
        }
      ]
    },
    {
      "cell_type": "markdown",
      "metadata": {
        "id": "eOwJ_KnRsJdx"
      },
      "source": [
        "#### Constants"
      ]
    },
    {
      "cell_type": "code",
      "metadata": {
        "id": "VoD867RSwWWt"
      },
      "source": [
        "hop_number = 2  # you only need to change this number with each copy of this notebook.\n",
        "# You can run these in parallel"
      ],
      "execution_count": null,
      "outputs": []
    },
    {
      "cell_type": "code",
      "metadata": {
        "colab": {
          "base_uri": "https://localhost:8080/"
        },
        "id": "OFCtLLdSgpxa",
        "outputId": "54670083-29c5-4528-b382-aeb7ee503fc3"
      },
      "source": [
        "from google.colab import drive\n",
        "drive.mount('/content/drive')\n",
        "\n",
        "import pandas as pd\n",
        "import numpy as np\n",
        "from sklearn.metrics import precision_recall_curve, auc\n",
        "from tdc import utils\n",
        "from tdc.benchmark_group import admet_group\n",
        "import lightgbm as lgb\n",
        "import glob\n",
        "from tdc.benchmark_group import admet_group\n",
        "from scipy.stats import uniform, randint\n",
        "from datetime import datetime\n",
        "import time\n",
        "from typing import  Callable\n",
        "from sklearn.model_selection import RandomizedSearchCV\n",
        "from sklearn.metrics import make_scorer"
      ],
      "execution_count": null,
      "outputs": [
        {
          "name": "stdout",
          "output_type": "stream",
          "text": [
            "Drive already mounted at /content/drive; to attempt to forcibly remount, call drive.mount(\"/content/drive\", force_remount=True).\n"
          ]
        }
      ]
    },
    {
      "cell_type": "code",
      "metadata": {
        "colab": {
          "base_uri": "https://localhost:8080/"
        },
        "id": "MLJzdixIm0uw",
        "outputId": "0a31acba-28c4-4785-ecd3-7a4ce82e4e43"
      },
      "source": [
        "# load data\n",
        "def get_larger_file_names():\n",
        "  \"\"\"\n",
        "    Returns the file locations for the 10_000 bucket color embeddings.\n",
        "  \"\"\"\n",
        "  return glob.glob('/content/drive/MyDrive/SpringBoard/Therapeutic Data Commons Projects/data/more_buckets_data/*hop_larger_embedding.csv')\n",
        "\n",
        "def load_feature_df(hop_num:int):\n",
        "  \"\"\"\n",
        "      Load all the color features, target of hop number hop nu\n",
        "      Return a dataframe of (color0, color1 ... color998,color999, target) of the insample training data\n",
        "  \"\"\"\n",
        "  hop_file_name = get_larger_file_names()[hop_num]\n",
        "  df = pd.read_csv(hop_file_name, index_col=0)\n",
        "  df = df.astype(np.int16)\n",
        "  group = admet_group(path = 'data/')\n",
        "  benchmark = group.get('cyp2c9_veith')\n",
        "  targets =  benchmark['train_val']['Y'].astype(np.bool)\n",
        "  df['target'] =  targets\n",
        "  return df\n",
        "\n",
        "\n",
        "\n",
        "# Constants\n",
        "def compute_auprc(y_true, y_pred):\n",
        "    # https://stats.stackexchange.com/questions/157012/area-under-precision-recall-curve-auc-of-pr-curve-and-average-precision-ap\n",
        "    precision, recall, thresholds = precision_recall_curve(y_true, y_pred)\n",
        "    area = round(auc(recall, precision), 6)\n",
        "    return area\n",
        "\n",
        "\n",
        "parent_save_location_name = f'/content/drive/MyDrive/SpringBoard/Therapeutic Data Commons Projects/HyperParamTuning/RandomSearchOutcomes/results_hop_number__{hop_number}__'\n",
        "\n",
        "\n",
        "model_object = lgb.LGBMRegressor(subsample_freq=1) # This makes the subsample param work\n",
        "\n",
        "param_distributions = {\n",
        "    'n_estimators': randint(0, 1000),\n",
        "    'learning_rate': uniform(0, .1),\n",
        "    'num_leaves': randint(0, 500),\n",
        "    'reg_alpha': uniform(0, .2),\n",
        "    'colsample_bytree' :uniform(.0, 1),\n",
        "    'subsample': uniform(0, 1)\n",
        "    }\n",
        "\n",
        "df =  load_feature_df(hop_number)\n",
        "feature_names = [f for f in df.columns if 'color' in f]\n",
        "target_name = 'target'\n",
        "\n"
      ],
      "execution_count": null,
      "outputs": [
        {
          "name": "stderr",
          "output_type": "stream",
          "text": [
            "Downloading Benchmark Group...\n",
            "100%|██████████| 1.47M/1.47M [00:01<00:00, 1.13MiB/s]\n",
            "Extracting zip file...\n",
            "Done!\n"
          ]
        }
      ]
    },
    {
      "cell_type": "markdown",
      "metadata": {
        "id": "Xe3uQ4Qairyg"
      },
      "source": [
        "### Random Search helper methods\n"
      ]
    },
    {
      "cell_type": "code",
      "metadata": {
        "colab": {
          "base_uri": "https://localhost:8080/"
        },
        "id": "ZRwNz4esiuiL",
        "outputId": "50b303fa-bb94-43e4-da74-41ac8603112c"
      },
      "source": [
        "def create_results_df(cv_results_):\n",
        "  results_df = pd.DataFrame(cv_results_)\n",
        "  results_df = results_df.sort_values(by=['rank_test_score'])\n",
        "  col_order = ['mean_test_score','std_test_score','mean_fit_time']\n",
        "  other_cols = [a for a in results_df.columns if a not in col_order]\n",
        "  col_order.extend(other_cols)\n",
        "  results_df = results_df[col_order] # reorder the cols to make them more readable\n",
        "  results_df = results_df.sort_values('mean_test_score', ascending=False)\n",
        "  return results_df\n",
        "\n",
        "\n",
        "def get_file_name_to_save() -> str:\n",
        "  current_unix_time = int(time.mktime(datetime.now().timetuple()))\n",
        "  save_location_name = parent_save_location_name + f'{current_unix_time}.csv'\n",
        "  return save_location_name\n",
        "\n",
        "\n",
        "def save_results(results_df):\n",
        "  save_location_name = get_file_name_to_save()\n",
        "  results_df.to_csv(save_location_name, header=True)\n",
        "\n",
        "\n",
        "def run_random_search(n_iter:int,\n",
        "                      model_object,\n",
        "                      param_distributions: dict,\n",
        "                      score_func: Callable,\n",
        "                      df:pd.DataFrame,\n",
        "                      feature_names:list,\n",
        "                      target_name:str) -> pd.DataFrame:\n",
        "  \"\"\"\n",
        "      Do randomized search based on the model object and param distribtion.\n",
        "  \"\"\"\n",
        "  random_search = RandomizedSearchCV(model_object,\n",
        "                                    param_distributions,\n",
        "                                    n_iter=n_iter,\n",
        "                                    scoring=make_scorer(score_func, greater_is_better=True),\n",
        "                                    n_jobs=-1,\n",
        "                                    cv=5)\n",
        "\n",
        "  search_results = random_search.fit(df[feature_names],df[target_name])\n",
        "  \n",
        "  results_df = create_results_df(search_results.cv_results_)\n",
        "  print(f'CV test Score: {round(search_results.best_score_, 6)} out of {n_iter} random searches')\n",
        "  save_results(results_df)\n",
        "\n",
        "\n",
        "run_random_search(\n",
        "      n_iter = 5,\n",
        "      model_object = model_object,\n",
        "      param_distributions = param_distributions,\n",
        "      score_func = compute_auprc,\n",
        "      df = df,\n",
        "      feature_names = feature_names,\n",
        "      target_name = target_name\n",
        "  )\n"
      ],
      "execution_count": null,
      "outputs": [
        {
          "name": "stdout",
          "output_type": "stream",
          "text": [
            "CV test Score: 0.739674 out of 5 random searches\n"
          ]
        }
      ]
    },
    {
      "cell_type": "markdown",
      "metadata": {
        "id": "R0w97U-nvMtY"
      },
      "source": [
        "# Do Random Search\n",
        "\n",
        "Test 10k random hyper parameters with 5 fold CV on the given hop feature df"
      ]
    },
    {
      "cell_type": "code",
      "metadata": {
        "colab": {
          "background_save": true,
          "base_uri": "https://localhost:8080/"
        },
        "id": "uen5WFIOux1h",
        "outputId": "9ecf4fb2-dc58-45d4-d51e-d5491d01a35f"
      },
      "source": [
        "for _ in range(100):\n",
        "  start = datetime.now()\n",
        "  run_random_search(\n",
        "      n_iter = 100,\n",
        "      model_object = model_object,\n",
        "      param_distributions = param_distributions,\n",
        "      score_func = compute_auprc,\n",
        "      df = df,\n",
        "      feature_names = feature_names,\n",
        "      target_name = target_name\n",
        "  ) # these are very very fast\n",
        "  minutes = (datetime.now() - start) / 60\n",
        "  print(f'Took {minutes} minutes for 100 random searches')"
      ],
      "execution_count": null,
      "outputs": [
        {
          "name": "stdout",
          "output_type": "stream",
          "text": [
            "CV test Score: 0.75482 out of 100 random searches\n",
            "Took 0:00:13.348269 minutes for 100 random searches\n",
            "CV test Score: 0.753907 out of 100 random searches\n",
            "Took 0:00:11.046611 minutes for 100 random searches\n",
            "CV test Score: 0.757967 out of 100 random searches\n",
            "Took 0:00:14.426456 minutes for 100 random searches\n",
            "CV test Score: 0.756788 out of 100 random searches\n",
            "Took 0:00:13.317451 minutes for 100 random searches\n",
            "CV test Score: 0.753474 out of 100 random searches\n",
            "Took 0:00:12.561162 minutes for 100 random searches\n",
            "CV test Score: 0.759663 out of 100 random searches\n",
            "Took 0:00:11.820288 minutes for 100 random searches\n",
            "CV test Score: 0.756597 out of 100 random searches\n",
            "Took 0:00:12.338642 minutes for 100 random searches\n",
            "CV test Score: 0.757778 out of 100 random searches\n",
            "Took 0:00:13.309009 minutes for 100 random searches\n",
            "CV test Score: 0.756233 out of 100 random searches\n",
            "Took 0:00:14.515806 minutes for 100 random searches\n",
            "CV test Score: 0.755686 out of 100 random searches\n",
            "Took 0:00:11.640691 minutes for 100 random searches\n",
            "CV test Score: 0.755782 out of 100 random searches\n",
            "Took 0:00:11.388930 minutes for 100 random searches\n",
            "CV test Score: 0.753813 out of 100 random searches\n",
            "Took 0:00:14.555693 minutes for 100 random searches\n",
            "CV test Score: 0.755904 out of 100 random searches\n",
            "Took 0:00:12.560484 minutes for 100 random searches\n",
            "CV test Score: 0.756763 out of 100 random searches\n",
            "Took 0:00:13.095214 minutes for 100 random searches\n",
            "CV test Score: 0.757002 out of 100 random searches\n",
            "Took 0:00:14.438682 minutes for 100 random searches\n",
            "CV test Score: 0.758213 out of 100 random searches\n",
            "Took 0:00:13.381418 minutes for 100 random searches\n",
            "CV test Score: 0.756903 out of 100 random searches\n",
            "Took 0:00:12.414547 minutes for 100 random searches\n",
            "CV test Score: 0.755232 out of 100 random searches\n",
            "Took 0:00:15.230873 minutes for 100 random searches\n",
            "CV test Score: 0.754027 out of 100 random searches\n",
            "Took 0:00:16.728842 minutes for 100 random searches\n",
            "CV test Score: 0.756681 out of 100 random searches\n",
            "Took 0:00:16.249997 minutes for 100 random searches\n",
            "CV test Score: 0.757397 out of 100 random searches\n",
            "Took 0:00:13.756246 minutes for 100 random searches\n",
            "CV test Score: 0.758318 out of 100 random searches\n",
            "Took 0:00:13.608209 minutes for 100 random searches\n",
            "CV test Score: 0.755304 out of 100 random searches\n",
            "Took 0:00:13.087340 minutes for 100 random searches\n",
            "CV test Score: 0.754069 out of 100 random searches\n",
            "Took 0:00:16.030350 minutes for 100 random searches\n",
            "CV test Score: 0.753987 out of 100 random searches\n",
            "Took 0:00:14.122557 minutes for 100 random searches\n",
            "CV test Score: 0.752726 out of 100 random searches\n",
            "Took 0:00:16.395092 minutes for 100 random searches\n",
            "CV test Score: 0.754407 out of 100 random searches\n",
            "Took 0:00:13.628867 minutes for 100 random searches\n",
            "CV test Score: 0.758733 out of 100 random searches\n",
            "Took 0:00:14.743482 minutes for 100 random searches\n",
            "CV test Score: 0.756891 out of 100 random searches\n",
            "Took 0:00:12.059033 minutes for 100 random searches\n",
            "CV test Score: 0.753852 out of 100 random searches\n",
            "Took 0:00:14.743490 minutes for 100 random searches\n",
            "CV test Score: 0.753639 out of 100 random searches\n",
            "Took 0:00:13.038346 minutes for 100 random searches\n",
            "CV test Score: 0.755073 out of 100 random searches\n",
            "Took 0:00:13.176812 minutes for 100 random searches\n",
            "CV test Score: 0.759627 out of 100 random searches\n",
            "Took 0:00:14.541239 minutes for 100 random searches\n",
            "CV test Score: 0.756578 out of 100 random searches\n",
            "Took 0:00:13.739842 minutes for 100 random searches\n",
            "CV test Score: 0.755321 out of 100 random searches\n",
            "Took 0:00:11.956485 minutes for 100 random searches\n",
            "CV test Score: 0.756798 out of 100 random searches\n",
            "Took 0:00:14.445700 minutes for 100 random searches\n",
            "CV test Score: 0.755325 out of 100 random searches\n",
            "Took 0:00:13.791550 minutes for 100 random searches\n",
            "CV test Score: 0.755866 out of 100 random searches\n",
            "Took 0:00:12.044857 minutes for 100 random searches\n",
            "CV test Score: 0.754432 out of 100 random searches\n",
            "Took 0:00:12.105100 minutes for 100 random searches\n",
            "CV test Score: 0.757447 out of 100 random searches\n",
            "Took 0:00:13.883869 minutes for 100 random searches\n",
            "CV test Score: 0.759135 out of 100 random searches\n",
            "Took 0:00:12.929181 minutes for 100 random searches\n",
            "CV test Score: 0.757603 out of 100 random searches\n",
            "Took 0:00:14.591988 minutes for 100 random searches\n",
            "CV test Score: 0.755522 out of 100 random searches\n",
            "Took 0:00:12.644504 minutes for 100 random searches\n",
            "CV test Score: 0.753261 out of 100 random searches\n",
            "Took 0:00:13.490416 minutes for 100 random searches\n",
            "CV test Score: 0.751864 out of 100 random searches\n",
            "Took 0:00:11.409168 minutes for 100 random searches\n",
            "CV test Score: 0.753685 out of 100 random searches\n",
            "Took 0:00:15.108167 minutes for 100 random searches\n",
            "CV test Score: 0.752572 out of 100 random searches\n",
            "Took 0:00:13.836261 minutes for 100 random searches\n",
            "CV test Score: 0.754908 out of 100 random searches\n",
            "Took 0:00:14.311004 minutes for 100 random searches\n",
            "CV test Score: 0.753325 out of 100 random searches\n",
            "Took 0:00:13.163762 minutes for 100 random searches\n",
            "CV test Score: 0.755061 out of 100 random searches\n",
            "Took 0:00:12.973764 minutes for 100 random searches\n",
            "CV test Score: 0.753356 out of 100 random searches\n",
            "Took 0:00:12.116072 minutes for 100 random searches\n",
            "CV test Score: 0.759666 out of 100 random searches\n",
            "Took 0:00:14.292660 minutes for 100 random searches\n",
            "CV test Score: 0.758251 out of 100 random searches\n",
            "Took 0:00:13.385822 minutes for 100 random searches\n",
            "CV test Score: 0.756928 out of 100 random searches\n",
            "Took 0:00:11.843020 minutes for 100 random searches\n",
            "CV test Score: 0.75587 out of 100 random searches\n",
            "Took 0:00:15.328973 minutes for 100 random searches\n",
            "CV test Score: 0.756022 out of 100 random searches\n",
            "Took 0:00:15.275301 minutes for 100 random searches\n",
            "CV test Score: 0.753737 out of 100 random searches\n",
            "Took 0:00:15.747842 minutes for 100 random searches\n",
            "CV test Score: 0.756497 out of 100 random searches\n",
            "Took 0:00:14.264846 minutes for 100 random searches\n",
            "CV test Score: 0.757707 out of 100 random searches\n",
            "Took 0:00:12.828330 minutes for 100 random searches\n",
            "CV test Score: 0.756792 out of 100 random searches\n",
            "Took 0:00:14.404732 minutes for 100 random searches\n",
            "CV test Score: 0.754012 out of 100 random searches\n",
            "Took 0:00:14.176974 minutes for 100 random searches\n",
            "CV test Score: 0.758233 out of 100 random searches\n",
            "Took 0:00:12.433783 minutes for 100 random searches\n",
            "CV test Score: 0.754826 out of 100 random searches\n",
            "Took 0:00:13.390267 minutes for 100 random searches\n",
            "CV test Score: 0.758816 out of 100 random searches\n",
            "Took 0:00:13.278008 minutes for 100 random searches\n",
            "CV test Score: 0.755355 out of 100 random searches\n",
            "Took 0:00:13.452608 minutes for 100 random searches\n",
            "CV test Score: 0.758657 out of 100 random searches\n",
            "Took 0:00:14.038234 minutes for 100 random searches\n",
            "CV test Score: 0.757258 out of 100 random searches\n",
            "Took 0:00:12.918356 minutes for 100 random searches\n",
            "CV test Score: 0.758508 out of 100 random searches\n",
            "Took 0:00:13.171653 minutes for 100 random searches\n",
            "CV test Score: 0.756908 out of 100 random searches\n",
            "Took 0:00:12.472638 minutes for 100 random searches\n",
            "CV test Score: 0.756749 out of 100 random searches\n",
            "Took 0:00:13.723501 minutes for 100 random searches\n",
            "CV test Score: 0.757956 out of 100 random searches\n",
            "Took 0:00:14.286818 minutes for 100 random searches\n",
            "CV test Score: 0.756641 out of 100 random searches\n",
            "Took 0:00:13.132398 minutes for 100 random searches\n",
            "CV test Score: 0.753378 out of 100 random searches\n",
            "Took 0:00:15.761658 minutes for 100 random searches\n",
            "CV test Score: 0.756395 out of 100 random searches\n",
            "Took 0:00:13.325280 minutes for 100 random searches\n",
            "CV test Score: 0.754168 out of 100 random searches\n",
            "Took 0:00:13.281986 minutes for 100 random searches\n",
            "CV test Score: 0.75394 out of 100 random searches\n",
            "Took 0:00:12.935175 minutes for 100 random searches\n",
            "CV test Score: 0.757425 out of 100 random searches\n",
            "Took 0:00:14.272599 minutes for 100 random searches\n",
            "CV test Score: 0.755425 out of 100 random searches\n",
            "Took 0:00:13.672826 minutes for 100 random searches\n",
            "CV test Score: 0.756159 out of 100 random searches\n",
            "Took 0:00:14.254066 minutes for 100 random searches\n",
            "CV test Score: 0.756976 out of 100 random searches\n",
            "Took 0:00:13.996740 minutes for 100 random searches\n",
            "CV test Score: 0.755057 out of 100 random searches\n",
            "Took 0:00:13.896420 minutes for 100 random searches\n",
            "CV test Score: 0.753501 out of 100 random searches\n",
            "Took 0:00:13.320348 minutes for 100 random searches\n",
            "CV test Score: 0.753203 out of 100 random searches\n",
            "Took 0:00:12.610471 minutes for 100 random searches\n",
            "CV test Score: 0.75497 out of 100 random searches\n",
            "Took 0:00:13.025389 minutes for 100 random searches\n",
            "CV test Score: 0.755061 out of 100 random searches\n",
            "Took 0:00:14.526207 minutes for 100 random searches\n",
            "CV test Score: 0.756518 out of 100 random searches\n",
            "Took 0:00:12.458794 minutes for 100 random searches\n"
          ]
        }
      ]
    }
  ]
}